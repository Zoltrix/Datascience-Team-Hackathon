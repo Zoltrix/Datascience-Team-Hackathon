{
 "cells": [
  {
   "cell_type": "code",
   "execution_count": 1,
   "metadata": {
    "ExecuteTime": {
     "end_time": "2018-06-28T17:59:43.193963Z",
     "start_time": "2018-06-28T17:59:40.161276Z"
    },
    "collapsed": true
   },
   "outputs": [],
   "source": [
    "import pandas as pd \n",
    "from functools import reduce"
   ]
  },
  {
   "cell_type": "code",
   "execution_count": 2,
   "metadata": {
    "ExecuteTime": {
     "end_time": "2018-06-28T17:59:44.051374Z",
     "start_time": "2018-06-28T17:59:43.194890Z"
    },
    "collapsed": true
   },
   "outputs": [],
   "source": [
    "%matplotlib inline"
   ]
  },
  {
   "cell_type": "code",
   "execution_count": 3,
   "metadata": {
    "ExecuteTime": {
     "end_time": "2018-06-28T17:59:44.434490Z",
     "start_time": "2018-06-28T17:59:44.054219Z"
    },
    "collapsed": true
   },
   "outputs": [],
   "source": [
    "data_df = pd.read_json(\"../1-Data/train.json\")"
   ]
  },
  {
   "cell_type": "markdown",
   "metadata": {},
   "source": [
    "# EDA "
   ]
  },
  {
   "cell_type": "markdown",
   "metadata": {},
   "source": [
    "## Number of restaurants"
   ]
  },
  {
   "cell_type": "code",
   "execution_count": 8,
   "metadata": {
    "ExecuteTime": {
     "end_time": "2018-06-28T15:27:58.340151Z",
     "start_time": "2018-06-28T15:27:58.334147Z"
    }
   },
   "outputs": [
    {
     "data": {
      "text/plain": [
       "39774"
      ]
     },
     "execution_count": 8,
     "metadata": {},
     "output_type": "execute_result"
    }
   ],
   "source": [
    "len(data_df)"
   ]
  },
  {
   "cell_type": "markdown",
   "metadata": {},
   "source": [
    "##  Number of cuisine types"
   ]
  },
  {
   "cell_type": "code",
   "execution_count": 9,
   "metadata": {
    "ExecuteTime": {
     "end_time": "2018-06-28T15:27:58.367143Z",
     "start_time": "2018-06-28T15:27:58.343156Z"
    }
   },
   "outputs": [
    {
     "data": {
      "text/plain": [
       "20"
      ]
     },
     "execution_count": 9,
     "metadata": {},
     "output_type": "execute_result"
    }
   ],
   "source": [
    "data_df.cuisine.value_counts().count()"
   ]
  },
  {
   "cell_type": "code",
   "execution_count": 10,
   "metadata": {
    "ExecuteTime": {
     "end_time": "2018-06-28T15:27:58.391141Z",
     "start_time": "2018-06-28T15:27:58.370143Z"
    }
   },
   "outputs": [
    {
     "data": {
      "text/plain": [
       "italian         7838\n",
       "mexican         6438\n",
       "southern_us     4320\n",
       "indian          3003\n",
       "chinese         2673\n",
       "french          2646\n",
       "cajun_creole    1546\n",
       "thai            1539\n",
       "japanese        1423\n",
       "greek           1175\n",
       "spanish          989\n",
       "korean           830\n",
       "vietnamese       825\n",
       "moroccan         821\n",
       "british          804\n",
       "filipino         755\n",
       "irish            667\n",
       "jamaican         526\n",
       "russian          489\n",
       "brazilian        467\n",
       "Name: cuisine, dtype: int64"
      ]
     },
     "execution_count": 10,
     "metadata": {},
     "output_type": "execute_result"
    }
   ],
   "source": [
    "data_df.cuisine.value_counts()"
   ]
  },
  {
   "cell_type": "markdown",
   "metadata": {},
   "source": [
    "* Conclusion:  \n",
    "1- Classification problem is hard with 20 labels   \n",
    "2- Uneven distribution data labels \n",
    " "
   ]
  },
  {
   "cell_type": "markdown",
   "metadata": {},
   "source": [
    "##  Number of Ingredients per cuisine"
   ]
  },
  {
   "cell_type": "code",
   "execution_count": 11,
   "metadata": {
    "ExecuteTime": {
     "end_time": "2018-06-28T15:27:58.425142Z",
     "start_time": "2018-06-28T15:27:58.393143Z"
    },
    "scrolled": true
   },
   "outputs": [
    {
     "data": {
      "text/plain": [
       "0        [romaine lettuce, black olives, grape tomatoes...\n",
       "1        [plain flour, ground pepper, salt, tomatoes, g...\n",
       "2        [eggs, pepper, salt, mayonaise, cooking oil, g...\n",
       "3                      [water, vegetable oil, wheat, salt]\n",
       "4        [black pepper, shallots, cornflour, cayenne pe...\n",
       "5        [plain flour, sugar, butter, eggs, fresh ginge...\n",
       "6        [olive oil, salt, medium shrimp, pepper, garli...\n",
       "7        [sugar, pistachio nuts, white almond bark, flo...\n",
       "8        [olive oil, purple onion, fresh pineapple, por...\n",
       "9        [chopped tomatoes, fresh basil, garlic, extra-...\n",
       "10       [pimentos, sweet pepper, dried oregano, olive ...\n",
       "11       [low sodium soy sauce, fresh ginger, dry musta...\n",
       "12       [Italian parsley leaves, walnuts, hot red pepp...\n",
       "13       [ground cinnamon, fresh cilantro, chili powder...\n",
       "14       [fresh parmesan cheese, butter, all-purpose fl...\n",
       "15       [tumeric, vegetable stock, tomatoes, garam mas...\n",
       "16       [greek yogurt, lemon curd, confectioners sugar...\n",
       "17       [italian seasoning, broiler-fryer chicken, may...\n",
       "18        [sugar, hot chili, asian fish sauce, lime juice]\n",
       "19       [soy sauce, vegetable oil, red bell pepper, ch...\n",
       "20       [pork loin, roasted peanuts, chopped cilantro ...\n",
       "21       [roma tomatoes, kosher salt, purple onion, jal...\n",
       "22       [low-fat mayonnaise, pepper, salt, baking pota...\n",
       "23       [sesame seeds, red pepper, yellow peppers, wat...\n",
       "24       [marinara sauce, flat leaf parsley, olive oil,...\n",
       "25       [sugar, lo mein noodles, salt, chicken broth, ...\n",
       "26       [herbs, lemon juice, fresh tomatoes, paprika, ...\n",
       "27       [ground black pepper, butter, sliced mushrooms...\n",
       "28       [green bell pepper, egg roll wrappers, sweet a...\n",
       "29       [flour tortillas, cheese, breakfast sausages, ...\n",
       "                               ...                        \n",
       "39744    [extra-virgin olive oil, oregano, potatoes, ga...\n",
       "39745    [quinoa, extra-virgin olive oil, fresh thyme l...\n",
       "39746    [clove, bay leaves, ginger, chopped cilantro, ...\n",
       "39747    [water, sugar, grated lemon zest, butter, pitt...\n",
       "39748    [sea salt, pizza doughs, all-purpose flour, co...\n",
       "39749    [kosher salt, minced onion, tortilla chips, su...\n",
       "39750    [ground black pepper, chicken breasts, salsa, ...\n",
       "39751    [olive oil, cayenne pepper, chopped cilantro f...\n",
       "39752    [self rising flour, milk, white sugar, butter,...\n",
       "39753    [rosemary sprigs, lemon zest, garlic cloves, g...\n",
       "39754    [jasmine rice, bay leaves, sticky rice, rotiss...\n",
       "39755    [mint leaves, cilantro leaves, ghee, tomatoes,...\n",
       "39756    [vegetable oil, cinnamon sticks, water, all-pu...\n",
       "39757    [red bell pepper, garlic cloves, extra-virgin ...\n",
       "39758    [milk, salt, ground cayenne pepper, ground lam...\n",
       "39759    [red chili peppers, sea salt, onions, water, c...\n",
       "39760    [butter, large eggs, cornmeal, baking powder, ...\n",
       "39761    [honey, chicken breast halves, cilantro leaves...\n",
       "39762    [curry powder, salt, chicken, water, vegetable...\n",
       "39763    [fettuccine pasta, low-fat cream cheese, garli...\n",
       "39764    [chili powder, worcestershire sauce, celery, r...\n",
       "39765    [coconut, unsweetened coconut milk, mint leave...\n",
       "39766    [rutabaga, ham, thick-cut bacon, potatoes, fre...\n",
       "39767    [low-fat sour cream, grated parmesan cheese, s...\n",
       "39768    [shredded cheddar cheese, crushed cheese crack...\n",
       "39769    [light brown sugar, granulated sugar, butter, ...\n",
       "39770    [KRAFT Zesty Italian Dressing, purple onion, b...\n",
       "39771    [eggs, citrus fruit, raisins, sourdough starte...\n",
       "39772    [boneless chicken skinless thigh, minced garli...\n",
       "39773    [green chile, jalapeno chilies, onions, ground...\n",
       "Name: ingredients, Length: 39774, dtype: object"
      ]
     },
     "execution_count": 11,
     "metadata": {},
     "output_type": "execute_result"
    }
   ],
   "source": [
    "data_df.ingredients"
   ]
  },
  {
   "cell_type": "code",
   "execution_count": 12,
   "metadata": {
    "ExecuteTime": {
     "end_time": "2018-06-28T15:27:58.433153Z",
     "start_time": "2018-06-28T15:27:58.428149Z"
    },
    "collapsed": true
   },
   "outputs": [],
   "source": [
    "def flatten(ingr):\n",
    "    return reduce(lambda x,y : x+y, ingr) "
   ]
  },
  {
   "cell_type": "code",
   "execution_count": 13,
   "metadata": {
    "ExecuteTime": {
     "end_time": "2018-06-28T15:28:05.888238Z",
     "start_time": "2018-06-28T15:27:58.435142Z"
    },
    "collapsed": true
   },
   "outputs": [],
   "source": [
    "cuisine_ingr =  data_df.groupby('cuisine').apply(lambda x: flatten(x[\"ingredients\"])).reset_index(name='ingredients')"
   ]
  },
  {
   "cell_type": "markdown",
   "metadata": {},
   "source": [
    "## Ingredients"
   ]
  },
  {
   "cell_type": "code",
   "execution_count": 14,
   "metadata": {
    "ExecuteTime": {
     "end_time": "2018-06-28T15:28:05.912142Z",
     "start_time": "2018-06-28T15:28:05.890145Z"
    }
   },
   "outputs": [
    {
     "data": {
      "text/plain": [
       "0     [ice cubes, club soda, white rum, lime, turbin...\n",
       "1     [greek yogurt, lemon curd, confectioners sugar...\n",
       "2     [herbs, lemon juice, fresh tomatoes, paprika, ...\n",
       "3     [low sodium soy sauce, fresh ginger, dry musta...\n",
       "4     [eggs, pepper, salt, mayonaise, cooking oil, g...\n",
       "5     [sugar, salt, fennel bulb, water, lemon olive ...\n",
       "6     [romaine lettuce, black olives, grape tomatoes...\n",
       "7     [water, vegetable oil, wheat, salt, black pepp...\n",
       "8     [cooking spray, salt, black pepper, yukon gold...\n",
       "9     [sugar, pistachio nuts, white almond bark, flo...\n",
       "10    [plain flour, sugar, butter, eggs, fresh ginge...\n",
       "11    [sirloin, mirin, yellow onion, low sodium soy ...\n",
       "12    [jasmine rice, garlic, scallions, sugar, shiit...\n",
       "13    [olive oil, purple onion, fresh pineapple, por...\n",
       "14    [ground cloves, whole nutmegs, ground ginger, ...\n",
       "15    [water, grits, mozzarella cheese, salt, water,...\n",
       "16    [plain flour, ground pepper, salt, tomatoes, g...\n",
       "17    [olive oil, salt, medium shrimp, pepper, garli...\n",
       "18    [sugar, hot chili, asian fish sauce, lime juic...\n",
       "19    [soy sauce, vegetable oil, red bell pepper, ch...\n",
       "Name: ingredients, dtype: object"
      ]
     },
     "execution_count": 14,
     "metadata": {},
     "output_type": "execute_result"
    }
   ],
   "source": [
    "cuisine_ingr['ingredients']"
   ]
  },
  {
   "cell_type": "code",
   "execution_count": 15,
   "metadata": {
    "ExecuteTime": {
     "end_time": "2018-06-28T15:28:06.036172Z",
     "start_time": "2018-06-28T15:28:05.915154Z"
    },
    "collapsed": true
   },
   "outputs": [],
   "source": [
    "ingredients = flatten(list(cuisine_ingr['ingredients'].values))"
   ]
  },
  {
   "cell_type": "markdown",
   "metadata": {},
   "source": [
    "### Most occuring ingredients"
   ]
  },
  {
   "cell_type": "code",
   "execution_count": 16,
   "metadata": {
    "ExecuteTime": {
     "end_time": "2018-06-28T15:28:06.413144Z",
     "start_time": "2018-06-28T15:28:06.038170Z"
    }
   },
   "outputs": [
    {
     "data": {
      "text/plain": [
       "<matplotlib.axes._subplots.AxesSubplot at 0x19fbb758400>"
      ]
     },
     "execution_count": 16,
     "metadata": {},
     "output_type": "execute_result"
    },
    {
     "data": {
      "image/png": "[encoded data removed]",
      "text/plain": [
       "<matplotlib.figure.Figure at 0x19fc0a90278>"
      ]
     },
     "metadata": {},
     "output_type": "display_data"
    }
   ],
   "source": [
    "pd.Series(ingredients).value_counts()[:10].plot('bar')"
   ]
  },
  {
   "cell_type": "markdown",
   "metadata": {},
   "source": [
    "* Salt is the most frequent ingredient, not surprising\n",
    "* It insteresting that water isn't the second most frequent ingredient\n",
    "* Maybe .. ingredient names need to be cleaned/grouped"
   ]
  },
  {
   "cell_type": "markdown",
   "metadata": {},
   "source": [
    "### Least occuring ingredients"
   ]
  },
  {
   "cell_type": "code",
   "execution_count": 17,
   "metadata": {
    "ExecuteTime": {
     "end_time": "2018-06-28T15:28:06.774151Z",
     "start_time": "2018-06-28T15:28:06.415157Z"
    }
   },
   "outputs": [
    {
     "data": {
      "text/plain": [
       "<matplotlib.axes._subplots.AxesSubplot at 0x19fc0b61b00>"
      ]
     },
     "execution_count": 17,
     "metadata": {},
     "output_type": "execute_result"
    },
    {
     "data": {
      "image/png": "[encoded data removed]",
      "text/plain": [
       "<matplotlib.figure.Figure at 0x19fc0b86e10>"
      ]
     },
     "metadata": {},
     "output_type": "display_data"
    }
   ],
   "source": [
    "pd.Series(ingredients).value_counts()[-10:].plot('bar')"
   ]
  },
  {
   "cell_type": "markdown",
   "metadata": {},
   "source": [
    "* Remove below threshold ingredients ?"
   ]
  },
  {
   "cell_type": "markdown",
   "metadata": {},
   "source": [
    "### Total number of ingredients"
   ]
  },
  {
   "cell_type": "code",
   "execution_count": 18,
   "metadata": {
    "ExecuteTime": {
     "end_time": "2018-06-28T15:28:06.816149Z",
     "start_time": "2018-06-28T15:28:06.776143Z"
    }
   },
   "outputs": [
    {
     "data": {
      "text/plain": [
       "6714"
      ]
     },
     "execution_count": 18,
     "metadata": {},
     "output_type": "execute_result"
    }
   ],
   "source": [
    "len(set(ingredients))"
   ]
  },
  {
   "cell_type": "markdown",
   "metadata": {},
   "source": [
    "* There are 6714 different type of ingredients\n",
    "* If we're going with the normal ADS route, we will have to build a ndarray of shape (39774, 6714). This will be a huge matrix"
   ]
  },
  {
   "cell_type": "markdown",
   "metadata": {},
   "source": [
    "## Top ingredients per cuisine"
   ]
  },
  {
   "cell_type": "code",
   "execution_count": 19,
   "metadata": {
    "ExecuteTime": {
     "end_time": "2018-06-28T15:28:06.840152Z",
     "start_time": "2018-06-28T15:28:06.818144Z"
    }
   },
   "outputs": [
    {
     "data": {
      "text/html": [
       "<div>\n",
       "<style>\n",
       "    .dataframe thead tr:only-child th {\n",
       "        text-align: right;\n",
       "    }\n",
       "\n",
       "    .dataframe thead th {\n",
       "        text-align: left;\n",
       "    }\n",
       "\n",
       "    .dataframe tbody tr th {\n",
       "        vertical-align: top;\n",
       "    }\n",
       "</style>\n",
       "<table border=\"1\" class=\"dataframe\">\n",
       "  <thead>\n",
       "    <tr style=\"text-align: right;\">\n",
       "      <th></th>\n",
       "      <th>cuisine</th>\n",
       "      <th>ingredients</th>\n",
       "    </tr>\n",
       "  </thead>\n",
       "  <tbody>\n",
       "    <tr>\n",
       "      <th>0</th>\n",
       "      <td>brazilian</td>\n",
       "      <td>[ice cubes, club soda, white rum, lime, turbin...</td>\n",
       "    </tr>\n",
       "    <tr>\n",
       "      <th>1</th>\n",
       "      <td>british</td>\n",
       "      <td>[greek yogurt, lemon curd, confectioners sugar...</td>\n",
       "    </tr>\n",
       "    <tr>\n",
       "      <th>2</th>\n",
       "      <td>cajun_creole</td>\n",
       "      <td>[herbs, lemon juice, fresh tomatoes, paprika, ...</td>\n",
       "    </tr>\n",
       "    <tr>\n",
       "      <th>3</th>\n",
       "      <td>chinese</td>\n",
       "      <td>[low sodium soy sauce, fresh ginger, dry musta...</td>\n",
       "    </tr>\n",
       "    <tr>\n",
       "      <th>4</th>\n",
       "      <td>filipino</td>\n",
       "      <td>[eggs, pepper, salt, mayonaise, cooking oil, g...</td>\n",
       "    </tr>\n",
       "  </tbody>\n",
       "</table>\n",
       "</div>"
      ],
      "text/plain": [
       "        cuisine                                        ingredients\n",
       "0     brazilian  [ice cubes, club soda, white rum, lime, turbin...\n",
       "1       british  [greek yogurt, lemon curd, confectioners sugar...\n",
       "2  cajun_creole  [herbs, lemon juice, fresh tomatoes, paprika, ...\n",
       "3       chinese  [low sodium soy sauce, fresh ginger, dry musta...\n",
       "4      filipino  [eggs, pepper, salt, mayonaise, cooking oil, g..."
      ]
     },
     "execution_count": 19,
     "metadata": {},
     "output_type": "execute_result"
    }
   ],
   "source": [
    "cuisine_ingr.head()"
   ]
  },
  {
   "cell_type": "code",
   "execution_count": 20,
   "metadata": {
    "ExecuteTime": {
     "end_time": "2018-06-28T15:28:06.850145Z",
     "start_time": "2018-06-28T15:28:06.843145Z"
    }
   },
   "outputs": [
    {
     "data": {
      "text/plain": [
       "20"
      ]
     },
     "execution_count": 20,
     "metadata": {},
     "output_type": "execute_result"
    }
   ],
   "source": [
    "len(cuisine_ingr['ingredients'])"
   ]
  },
  {
   "cell_type": "code",
   "execution_count": 21,
   "metadata": {
    "ExecuteTime": {
     "end_time": "2018-06-28T15:28:06.873143Z",
     "start_time": "2018-06-28T15:28:06.853176Z"
    },
    "collapsed": true
   },
   "outputs": [],
   "source": [
    "cuisine_ingr['ing_counts']=cuisine_ingr.ingredients.apply(lambda x :len(x))"
   ]
  },
  {
   "cell_type": "code",
   "execution_count": 22,
   "metadata": {
    "ExecuteTime": {
     "end_time": "2018-06-28T15:28:06.927151Z",
     "start_time": "2018-06-28T15:28:06.876162Z"
    },
    "collapsed": true
   },
   "outputs": [],
   "source": [
    "cuisine_ingr['ing_unique_counts']= cuisine_ingr.ingredients.apply(lambda x :len(set(x)))"
   ]
  },
  {
   "cell_type": "code",
   "execution_count": 23,
   "metadata": {
    "ExecuteTime": {
     "end_time": "2018-06-28T15:28:06.975156Z",
     "start_time": "2018-06-28T15:28:06.929143Z"
    }
   },
   "outputs": [
    {
     "data": {
      "text/html": [
       "<div>\n",
       "<style>\n",
       "    .dataframe thead tr:only-child th {\n",
       "        text-align: right;\n",
       "    }\n",
       "\n",
       "    .dataframe thead th {\n",
       "        text-align: left;\n",
       "    }\n",
       "\n",
       "    .dataframe tbody tr th {\n",
       "        vertical-align: top;\n",
       "    }\n",
       "</style>\n",
       "<table border=\"1\" class=\"dataframe\">\n",
       "  <thead>\n",
       "    <tr style=\"text-align: right;\">\n",
       "      <th></th>\n",
       "      <th>cuisine</th>\n",
       "      <th>ingredients</th>\n",
       "      <th>ing_counts</th>\n",
       "      <th>ing_unique_counts</th>\n",
       "    </tr>\n",
       "  </thead>\n",
       "  <tbody>\n",
       "    <tr>\n",
       "      <th>0</th>\n",
       "      <td>brazilian</td>\n",
       "      <td>[ice cubes, club soda, white rum, lime, turbin...</td>\n",
       "      <td>4446</td>\n",
       "      <td>853</td>\n",
       "    </tr>\n",
       "    <tr>\n",
       "      <th>15</th>\n",
       "      <td>russian</td>\n",
       "      <td>[water, grits, mozzarella cheese, salt, water,...</td>\n",
       "      <td>5000</td>\n",
       "      <td>872</td>\n",
       "    </tr>\n",
       "    <tr>\n",
       "      <th>10</th>\n",
       "      <td>jamaican</td>\n",
       "      <td>[plain flour, sugar, butter, eggs, fresh ginge...</td>\n",
       "      <td>6425</td>\n",
       "      <td>877</td>\n",
       "    </tr>\n",
       "    <tr>\n",
       "      <th>12</th>\n",
       "      <td>korean</td>\n",
       "      <td>[jasmine rice, garlic, scallions, sugar, shiit...</td>\n",
       "      <td>9366</td>\n",
       "      <td>898</td>\n",
       "    </tr>\n",
       "    <tr>\n",
       "      <th>4</th>\n",
       "      <td>filipino</td>\n",
       "      <td>[eggs, pepper, salt, mayonaise, cooking oil, g...</td>\n",
       "      <td>7550</td>\n",
       "      <td>947</td>\n",
       "    </tr>\n",
       "    <tr>\n",
       "      <th>14</th>\n",
       "      <td>moroccan</td>\n",
       "      <td>[ground cloves, whole nutmegs, ground ginger, ...</td>\n",
       "      <td>10599</td>\n",
       "      <td>974</td>\n",
       "    </tr>\n",
       "    <tr>\n",
       "      <th>8</th>\n",
       "      <td>irish</td>\n",
       "      <td>[cooking spray, salt, black pepper, yukon gold...</td>\n",
       "      <td>6203</td>\n",
       "      <td>999</td>\n",
       "    </tr>\n",
       "    <tr>\n",
       "      <th>19</th>\n",
       "      <td>vietnamese</td>\n",
       "      <td>[soy sauce, vegetable oil, red bell pepper, ch...</td>\n",
       "      <td>10457</td>\n",
       "      <td>1108</td>\n",
       "    </tr>\n",
       "    <tr>\n",
       "      <th>1</th>\n",
       "      <td>british</td>\n",
       "      <td>[greek yogurt, lemon curd, confectioners sugar...</td>\n",
       "      <td>7806</td>\n",
       "      <td>1166</td>\n",
       "    </tr>\n",
       "    <tr>\n",
       "      <th>6</th>\n",
       "      <td>greek</td>\n",
       "      <td>[romaine lettuce, black olives, grape tomatoes...</td>\n",
       "      <td>11964</td>\n",
       "      <td>1198</td>\n",
       "    </tr>\n",
       "    <tr>\n",
       "      <th>17</th>\n",
       "      <td>spanish</td>\n",
       "      <td>[olive oil, salt, medium shrimp, pepper, garli...</td>\n",
       "      <td>10309</td>\n",
       "      <td>1263</td>\n",
       "    </tr>\n",
       "    <tr>\n",
       "      <th>18</th>\n",
       "      <td>thai</td>\n",
       "      <td>[sugar, hot chili, asian fish sauce, lime juic...</td>\n",
       "      <td>19308</td>\n",
       "      <td>1376</td>\n",
       "    </tr>\n",
       "    <tr>\n",
       "      <th>11</th>\n",
       "      <td>japanese</td>\n",
       "      <td>[sirloin, mirin, yellow onion, low sodium soy ...</td>\n",
       "      <td>13853</td>\n",
       "      <td>1439</td>\n",
       "    </tr>\n",
       "    <tr>\n",
       "      <th>2</th>\n",
       "      <td>cajun_creole</td>\n",
       "      <td>[herbs, lemon juice, fresh tomatoes, paprika, ...</td>\n",
       "      <td>19506</td>\n",
       "      <td>1576</td>\n",
       "    </tr>\n",
       "    <tr>\n",
       "      <th>7</th>\n",
       "      <td>indian</td>\n",
       "      <td>[water, vegetable oil, wheat, salt, black pepp...</td>\n",
       "      <td>38156</td>\n",
       "      <td>1664</td>\n",
       "    </tr>\n",
       "    <tr>\n",
       "      <th>3</th>\n",
       "      <td>chinese</td>\n",
       "      <td>[low sodium soy sauce, fresh ginger, dry musta...</td>\n",
       "      <td>32030</td>\n",
       "      <td>1792</td>\n",
       "    </tr>\n",
       "    <tr>\n",
       "      <th>5</th>\n",
       "      <td>french</td>\n",
       "      <td>[sugar, salt, fennel bulb, water, lemon olive ...</td>\n",
       "      <td>25978</td>\n",
       "      <td>2102</td>\n",
       "    </tr>\n",
       "    <tr>\n",
       "      <th>16</th>\n",
       "      <td>southern_us</td>\n",
       "      <td>[plain flour, ground pepper, salt, tomatoes, g...</td>\n",
       "      <td>41623</td>\n",
       "      <td>2462</td>\n",
       "    </tr>\n",
       "    <tr>\n",
       "      <th>13</th>\n",
       "      <td>mexican</td>\n",
       "      <td>[olive oil, purple onion, fresh pineapple, por...</td>\n",
       "      <td>70029</td>\n",
       "      <td>2684</td>\n",
       "    </tr>\n",
       "    <tr>\n",
       "      <th>9</th>\n",
       "      <td>italian</td>\n",
       "      <td>[sugar, pistachio nuts, white almond bark, flo...</td>\n",
       "      <td>77667</td>\n",
       "      <td>2929</td>\n",
       "    </tr>\n",
       "  </tbody>\n",
       "</table>\n",
       "</div>"
      ],
      "text/plain": [
       "         cuisine                                        ingredients  \\\n",
       "0      brazilian  [ice cubes, club soda, white rum, lime, turbin...   \n",
       "15       russian  [water, grits, mozzarella cheese, salt, water,...   \n",
       "10      jamaican  [plain flour, sugar, butter, eggs, fresh ginge...   \n",
       "12        korean  [jasmine rice, garlic, scallions, sugar, shiit...   \n",
       "4       filipino  [eggs, pepper, salt, mayonaise, cooking oil, g...   \n",
       "14      moroccan  [ground cloves, whole nutmegs, ground ginger, ...   \n",
       "8          irish  [cooking spray, salt, black pepper, yukon gold...   \n",
       "19    vietnamese  [soy sauce, vegetable oil, red bell pepper, ch...   \n",
       "1        british  [greek yogurt, lemon curd, confectioners sugar...   \n",
       "6          greek  [romaine lettuce, black olives, grape tomatoes...   \n",
       "17       spanish  [olive oil, salt, medium shrimp, pepper, garli...   \n",
       "18          thai  [sugar, hot chili, asian fish sauce, lime juic...   \n",
       "11      japanese  [sirloin, mirin, yellow onion, low sodium soy ...   \n",
       "2   cajun_creole  [herbs, lemon juice, fresh tomatoes, paprika, ...   \n",
       "7         indian  [water, vegetable oil, wheat, salt, black pepp...   \n",
       "3        chinese  [low sodium soy sauce, fresh ginger, dry musta...   \n",
       "5         french  [sugar, salt, fennel bulb, water, lemon olive ...   \n",
       "16   southern_us  [plain flour, ground pepper, salt, tomatoes, g...   \n",
       "13       mexican  [olive oil, purple onion, fresh pineapple, por...   \n",
       "9        italian  [sugar, pistachio nuts, white almond bark, flo...   \n",
       "\n",
       "    ing_counts  ing_unique_counts  \n",
       "0         4446                853  \n",
       "15        5000                872  \n",
       "10        6425                877  \n",
       "12        9366                898  \n",
       "4         7550                947  \n",
       "14       10599                974  \n",
       "8         6203                999  \n",
       "19       10457               1108  \n",
       "1         7806               1166  \n",
       "6        11964               1198  \n",
       "17       10309               1263  \n",
       "18       19308               1376  \n",
       "11       13853               1439  \n",
       "2        19506               1576  \n",
       "7        38156               1664  \n",
       "3        32030               1792  \n",
       "5        25978               2102  \n",
       "16       41623               2462  \n",
       "13       70029               2684  \n",
       "9        77667               2929  "
      ]
     },
     "execution_count": 23,
     "metadata": {},
     "output_type": "execute_result"
    }
   ],
   "source": [
    "cuisine_ingr.sort_values(\"ing_unique_counts\")"
   ]
  },
  {
   "cell_type": "code",
   "execution_count": 24,
   "metadata": {
    "ExecuteTime": {
     "end_time": "2018-06-28T15:28:07.196176Z",
     "start_time": "2018-06-28T15:28:06.977143Z"
    }
   },
   "outputs": [
    {
     "data": {
      "text/plain": [
       "<matplotlib.axes._subplots.AxesSubplot at 0x19fc0bacc50>"
      ]
     },
     "execution_count": 24,
     "metadata": {},
     "output_type": "execute_result"
    },
    {
     "data": {
      "image/png": "[encoded data removed]",
      "text/plain": [
       "<matplotlib.figure.Figure at 0x19fc0c7edd8>"
      ]
     },
     "metadata": {},
     "output_type": "display_data"
    }
   ],
   "source": [
    "pd.Series(cuisine_ingr[cuisine_ingr.cuisine==\"italian\"]['ingredients'].values[0]).value_counts()[:10].plot('bar')"
   ]
  },
  {
   "cell_type": "code",
   "execution_count": 25,
   "metadata": {
    "ExecuteTime": {
     "end_time": "2018-06-28T15:28:07.391181Z",
     "start_time": "2018-06-28T15:28:07.198144Z"
    }
   },
   "outputs": [
    {
     "data": {
      "text/plain": [
       "<matplotlib.axes._subplots.AxesSubplot at 0x19fc0d40a20>"
      ]
     },
     "execution_count": 25,
     "metadata": {},
     "output_type": "execute_result"
    },
    {
     "data": {
      "image/png": "[encoded data removed]",
      "text/plain": [
       "<matplotlib.figure.Figure at 0x19fc0bb9c18>"
      ]
     },
     "metadata": {},
     "output_type": "display_data"
    }
   ],
   "source": [
    "pd.Series(cuisine_ingr[cuisine_ingr.cuisine==\"indian\"]['ingredients'].values[0]).value_counts()[:10].plot('bar')"
   ]
  },
  {
   "cell_type": "code",
   "execution_count": 29,
   "metadata": {
    "ExecuteTime": {
     "end_time": "2018-06-28T15:32:08.654699Z",
     "start_time": "2018-06-28T15:32:08.458700Z"
    }
   },
   "outputs": [
    {
     "data": {
      "text/plain": [
       "<matplotlib.axes._subplots.AxesSubplot at 0x19fc1106cf8>"
      ]
     },
     "execution_count": 29,
     "metadata": {},
     "output_type": "execute_result"
    },
    {
     "data": {
      "image/png": "[encoded data removed]",
      "text/plain": [
       "<matplotlib.figure.Figure at 0x19fc1331b38>"
      ]
     },
     "metadata": {},
     "output_type": "display_data"
    }
   ],
   "source": [
    "pd.Series(cuisine_ingr[cuisine_ingr.cuisine==\"moroccan\"]['ingredients'].values[0]).value_counts()[:10].plot('bar')"
   ]
  },
  {
   "cell_type": "code",
   "execution_count": 31,
   "metadata": {
    "ExecuteTime": {
     "end_time": "2018-06-28T16:55:32.524591Z",
     "start_time": "2018-06-28T16:55:32.296561Z"
    }
   },
   "outputs": [
    {
     "data": {
      "text/plain": [
       "<matplotlib.axes._subplots.AxesSubplot at 0x19fc1546f60>"
      ]
     },
     "execution_count": 31,
     "metadata": {},
     "output_type": "execute_result"
    },
    {
     "data": {
      "image/png": "[encoded data removed]",
      "text/plain": [
       "<matplotlib.figure.Figure at 0x19fc136fa20>"
      ]
     },
     "metadata": {},
     "output_type": "display_data"
    }
   ],
   "source": [
    "pd.Series(cuisine_ingr[cuisine_ingr.cuisine==\"french\"]['ingredients'].values[0]).value_counts()[:20].plot('bar')"
   ]
  },
  {
   "cell_type": "code",
   "execution_count": 46,
   "metadata": {
    "ExecuteTime": {
     "end_time": "2018-06-28T17:16:29.412212Z",
     "start_time": "2018-06-28T17:16:29.358213Z"
    },
    "collapsed": true
   },
   "outputs": [
    {
     "data": {
      "text/plain": [
       "0     {fresh cilantro, corn tortillas, vegetable sto...\n",
       "1     {fresh cilantro, pork, vegetable stock, coarse...\n",
       "2     {ice cream salt, red kidney beans, bacon greas...\n",
       "3     {Wish-Bone Light Italian Dressing, boneless ch...\n",
       "4     {fresh cilantro, pork, meat, vegetable stock, ...\n",
       "5     {tart apples, chuck steaks, light cream, dried...\n",
       "6     {fresh cilantro, cheese spread, balsamic vinai...\n",
       "7     {red kidney beans, mixed bell peppers, english...\n",
       "8     {vegetable stock, meat, Angostura bitters, sou...\n",
       "9     {red kidney beans, boneless chicken cutlet, li...\n",
       "10    {fresh cilantro, dasheen, jamaican jerk, pork,...\n",
       "11    {california avocado, tart apples, whole wheat ...\n",
       "12    {fresh cilantro, corn tortillas, pork, meat, g...\n",
       "13    {california avocado, red kidney beans, mixed b...\n",
       "14    {fresh cilantro, vegetable stock, meat, black ...\n",
       "15    {fresh cilantro, pork, meat, vegetable stock, ...\n",
       "16    {red kidney beans, bacon grease, boneless chic...\n",
       "17    {fresh cilantro, virgin olive oil, pork, meat,...\n",
       "18    {onion slices, thai black glutinous rice, roas...\n",
       "19    {fresh cilantro, pork, meat, vegetable stock, ...\n",
       "Name: ingredients, dtype: object"
      ]
     },
     "execution_count": 46,
     "metadata": {},
     "output_type": "execute_result"
    }
   ],
   "source": [
    "cuisine_ingr.ingredients.apply(lambda x : set(x))"
   ]
  },
  {
   "cell_type": "markdown",
   "metadata": {},
   "source": [
    "# Data Preparation"
   ]
  },
  {
   "cell_type": "code",
   "execution_count": 5,
   "metadata": {
    "ExecuteTime": {
     "end_time": "2018-06-28T18:00:04.679123Z",
     "start_time": "2018-06-28T18:00:04.639115Z"
    },
    "collapsed": true
   },
   "outputs": [],
   "source": [
    "data_df['ingredients'] = data_df['ingredients'].apply(lambda x: ','.join(x))"
   ]
  },
  {
   "cell_type": "code",
   "execution_count": 16,
   "metadata": {
    "ExecuteTime": {
     "end_time": "2018-06-28T18:16:10.477676Z",
     "start_time": "2018-06-28T18:13:26.747116Z"
    },
    "collapsed": true
   },
   "outputs": [],
   "source": [
    "binary_ads = pd.get_dummies(data_df.set_index(['id', 'cuisine']). \\\n",
    "    ingredients.str.split(',\\s*', expand=True).stack()\n",
    ").groupby(level=['id', 'cuisine']).sum().astype(int)"
   ]
  },
  {
   "cell_type": "code",
   "execution_count": 17,
   "metadata": {
    "ExecuteTime": {
     "end_time": "2018-06-28T18:16:43.385536Z",
     "start_time": "2018-06-28T18:16:43.284502Z"
    }
   },
   "outputs": [
    {
     "data": {
      "text/html": [
       "<div>\n",
       "<style>\n",
       "    .dataframe thead tr:only-child th {\n",
       "        text-align: right;\n",
       "    }\n",
       "\n",
       "    .dataframe thead th {\n",
       "        text-align: left;\n",
       "    }\n",
       "\n",
       "    .dataframe tbody tr th {\n",
       "        vertical-align: top;\n",
       "    }\n",
       "</style>\n",
       "<table border=\"1\" class=\"dataframe\">\n",
       "  <thead>\n",
       "    <tr style=\"text-align: right;\">\n",
       "      <th></th>\n",
       "      <th></th>\n",
       "      <th></th>\n",
       "      <th>(    oz.) tomato sauce</th>\n",
       "      <th>(   oz.) tomato paste</th>\n",
       "      <th>(10 oz.) frozen chopped spinach</th>\n",
       "      <th>(14 oz.) sweetened condensed milk</th>\n",
       "      <th>(14.5 oz.) diced tomatoes</th>\n",
       "      <th>(15 oz.) refried beans</th>\n",
       "      <th>1 inch thick</th>\n",
       "      <th>1% low-fat buttermilk</th>\n",
       "      <th>1% low-fat chocolate milk</th>\n",
       "      <th>...</th>\n",
       "      <th>yukon gold potatoes</th>\n",
       "      <th>yuzu</th>\n",
       "      <th>yuzu juice</th>\n",
       "      <th>za'atar</th>\n",
       "      <th>zest</th>\n",
       "      <th>zesty italian dressing</th>\n",
       "      <th>zinfandel</th>\n",
       "      <th>ziti</th>\n",
       "      <th>zucchini</th>\n",
       "      <th>zucchini blossoms</th>\n",
       "    </tr>\n",
       "    <tr>\n",
       "      <th>id</th>\n",
       "      <th>cuisine</th>\n",
       "      <th></th>\n",
       "      <th></th>\n",
       "      <th></th>\n",
       "      <th></th>\n",
       "      <th></th>\n",
       "      <th></th>\n",
       "      <th></th>\n",
       "      <th></th>\n",
       "      <th></th>\n",
       "      <th></th>\n",
       "      <th></th>\n",
       "      <th></th>\n",
       "      <th></th>\n",
       "      <th></th>\n",
       "      <th></th>\n",
       "      <th></th>\n",
       "      <th></th>\n",
       "      <th></th>\n",
       "      <th></th>\n",
       "      <th></th>\n",
       "      <th></th>\n",
       "    </tr>\n",
       "  </thead>\n",
       "  <tbody>\n",
       "    <tr>\n",
       "      <th>0</th>\n",
       "      <th>spanish</th>\n",
       "      <td>0</td>\n",
       "      <td>0</td>\n",
       "      <td>0</td>\n",
       "      <td>0</td>\n",
       "      <td>0</td>\n",
       "      <td>0</td>\n",
       "      <td>0</td>\n",
       "      <td>0</td>\n",
       "      <td>0</td>\n",
       "      <td>0</td>\n",
       "      <td>...</td>\n",
       "      <td>0</td>\n",
       "      <td>0</td>\n",
       "      <td>0</td>\n",
       "      <td>0</td>\n",
       "      <td>0</td>\n",
       "      <td>0</td>\n",
       "      <td>0</td>\n",
       "      <td>0</td>\n",
       "      <td>0</td>\n",
       "      <td>0</td>\n",
       "    </tr>\n",
       "    <tr>\n",
       "      <th>1</th>\n",
       "      <th>mexican</th>\n",
       "      <td>0</td>\n",
       "      <td>0</td>\n",
       "      <td>0</td>\n",
       "      <td>0</td>\n",
       "      <td>0</td>\n",
       "      <td>0</td>\n",
       "      <td>0</td>\n",
       "      <td>0</td>\n",
       "      <td>0</td>\n",
       "      <td>0</td>\n",
       "      <td>...</td>\n",
       "      <td>0</td>\n",
       "      <td>0</td>\n",
       "      <td>0</td>\n",
       "      <td>0</td>\n",
       "      <td>0</td>\n",
       "      <td>0</td>\n",
       "      <td>0</td>\n",
       "      <td>0</td>\n",
       "      <td>0</td>\n",
       "      <td>0</td>\n",
       "    </tr>\n",
       "    <tr>\n",
       "      <th>2</th>\n",
       "      <th>french</th>\n",
       "      <td>0</td>\n",
       "      <td>0</td>\n",
       "      <td>0</td>\n",
       "      <td>0</td>\n",
       "      <td>0</td>\n",
       "      <td>0</td>\n",
       "      <td>0</td>\n",
       "      <td>0</td>\n",
       "      <td>0</td>\n",
       "      <td>0</td>\n",
       "      <td>...</td>\n",
       "      <td>0</td>\n",
       "      <td>0</td>\n",
       "      <td>0</td>\n",
       "      <td>0</td>\n",
       "      <td>0</td>\n",
       "      <td>0</td>\n",
       "      <td>0</td>\n",
       "      <td>0</td>\n",
       "      <td>0</td>\n",
       "      <td>0</td>\n",
       "    </tr>\n",
       "    <tr>\n",
       "      <th>3</th>\n",
       "      <th>chinese</th>\n",
       "      <td>0</td>\n",
       "      <td>0</td>\n",
       "      <td>0</td>\n",
       "      <td>0</td>\n",
       "      <td>0</td>\n",
       "      <td>0</td>\n",
       "      <td>0</td>\n",
       "      <td>0</td>\n",
       "      <td>0</td>\n",
       "      <td>0</td>\n",
       "      <td>...</td>\n",
       "      <td>0</td>\n",
       "      <td>0</td>\n",
       "      <td>0</td>\n",
       "      <td>0</td>\n",
       "      <td>0</td>\n",
       "      <td>0</td>\n",
       "      <td>0</td>\n",
       "      <td>0</td>\n",
       "      <td>0</td>\n",
       "      <td>0</td>\n",
       "    </tr>\n",
       "    <tr>\n",
       "      <th>4</th>\n",
       "      <th>italian</th>\n",
       "      <td>0</td>\n",
       "      <td>0</td>\n",
       "      <td>0</td>\n",
       "      <td>0</td>\n",
       "      <td>0</td>\n",
       "      <td>0</td>\n",
       "      <td>0</td>\n",
       "      <td>0</td>\n",
       "      <td>0</td>\n",
       "      <td>0</td>\n",
       "      <td>...</td>\n",
       "      <td>0</td>\n",
       "      <td>0</td>\n",
       "      <td>0</td>\n",
       "      <td>0</td>\n",
       "      <td>0</td>\n",
       "      <td>0</td>\n",
       "      <td>0</td>\n",
       "      <td>0</td>\n",
       "      <td>0</td>\n",
       "      <td>0</td>\n",
       "    </tr>\n",
       "  </tbody>\n",
       "</table>\n",
       "<p>5 rows × 6724 columns</p>\n",
       "</div>"
      ],
      "text/plain": [
       "               (    oz.) tomato sauce  (   oz.) tomato paste  \\\n",
       "id cuisine                                                     \n",
       "0  spanish  0                       0                      0   \n",
       "1  mexican  0                       0                      0   \n",
       "2  french   0                       0                      0   \n",
       "3  chinese  0                       0                      0   \n",
       "4  italian  0                       0                      0   \n",
       "\n",
       "            (10 oz.) frozen chopped spinach  \\\n",
       "id cuisine                                    \n",
       "0  spanish                                0   \n",
       "1  mexican                                0   \n",
       "2  french                                 0   \n",
       "3  chinese                                0   \n",
       "4  italian                                0   \n",
       "\n",
       "            (14 oz.) sweetened condensed milk  (14.5 oz.) diced tomatoes  \\\n",
       "id cuisine                                                                 \n",
       "0  spanish                                  0                          0   \n",
       "1  mexican                                  0                          0   \n",
       "2  french                                   0                          0   \n",
       "3  chinese                                  0                          0   \n",
       "4  italian                                  0                          0   \n",
       "\n",
       "            (15 oz.) refried beans  1 inch thick  1% low-fat buttermilk  \\\n",
       "id cuisine                                                                \n",
       "0  spanish                       0             0                      0   \n",
       "1  mexican                       0             0                      0   \n",
       "2  french                        0             0                      0   \n",
       "3  chinese                       0             0                      0   \n",
       "4  italian                       0             0                      0   \n",
       "\n",
       "            1% low-fat chocolate milk        ...          yukon gold potatoes  \\\n",
       "id cuisine                                   ...                                \n",
       "0  spanish                          0        ...                            0   \n",
       "1  mexican                          0        ...                            0   \n",
       "2  french                           0        ...                            0   \n",
       "3  chinese                          0        ...                            0   \n",
       "4  italian                          0        ...                            0   \n",
       "\n",
       "            yuzu  yuzu juice  za'atar  zest  zesty italian dressing  \\\n",
       "id cuisine                                                            \n",
       "0  spanish     0           0        0     0                       0   \n",
       "1  mexican     0           0        0     0                       0   \n",
       "2  french      0           0        0     0                       0   \n",
       "3  chinese     0           0        0     0                       0   \n",
       "4  italian     0           0        0     0                       0   \n",
       "\n",
       "            zinfandel  ziti  zucchini  zucchini blossoms  \n",
       "id cuisine                                                \n",
       "0  spanish          0     0         0                  0  \n",
       "1  mexican          0     0         0                  0  \n",
       "2  french           0     0         0                  0  \n",
       "3  chinese          0     0         0                  0  \n",
       "4  italian          0     0         0                  0  \n",
       "\n",
       "[5 rows x 6724 columns]"
      ]
     },
     "execution_count": 17,
     "metadata": {},
     "output_type": "execute_result"
    }
   ],
   "source": [
    "binary_ads.head()"
   ]
  },
  {
   "cell_type": "code",
   "execution_count": 29,
   "metadata": {
    "ExecuteTime": {
     "end_time": "2018-06-28T18:26:30.881504Z",
     "start_time": "2018-06-28T18:26:30.878501Z"
    }
   },
   "outputs": [],
   "source": [
    "from sklearn.neighbors import KNeighborsClassifier\n",
    "from sklearn.metrics import roc_auc_score"
   ]
  },
  {
   "cell_type": "code",
   "execution_count": 18,
   "metadata": {
    "ExecuteTime": {
     "end_time": "2018-06-28T18:19:28.838940Z",
     "start_time": "2018-06-28T18:19:28.813968Z"
    },
    "collapsed": true
   },
   "outputs": [],
   "source": [
    "binary_ads.reset_index(inplace=True)"
   ]
  },
  {
   "cell_type": "code",
   "execution_count": 22,
   "metadata": {
    "ExecuteTime": {
     "end_time": "2018-06-28T18:22:08.209093Z",
     "start_time": "2018-06-28T18:22:08.202092Z"
    },
    "collapsed": true
   },
   "outputs": [],
   "source": [
    "y = binary_ads.pop('cuisine')"
   ]
  },
  {
   "cell_type": "code",
   "execution_count": 23,
   "metadata": {
    "ExecuteTime": {
     "end_time": "2018-06-28T18:22:30.882089Z",
     "start_time": "2018-06-28T18:22:30.132007Z"
    },
    "collapsed": true
   },
   "outputs": [],
   "source": [
    "X = binary_ads.values"
   ]
  },
  {
   "cell_type": "code",
   "execution_count": 21,
   "metadata": {
    "ExecuteTime": {
     "end_time": "2018-06-28T18:21:13.980595Z",
     "start_time": "2018-06-28T18:21:13.976594Z"
    },
    "collapsed": true
   },
   "outputs": [],
   "source": [
    "knn = KNeighborsClassifier(n_jobs=-1)"
   ]
  },
  {
   "cell_type": "code",
   "execution_count": 26,
   "metadata": {
    "ExecuteTime": {
     "end_time": "2018-06-28T18:23:34.107239Z",
     "start_time": "2018-06-28T18:22:49.524507Z"
    }
   },
   "outputs": [
    {
     "data": {
      "text/plain": [
       "KNeighborsClassifier(algorithm='auto', leaf_size=30, metric='minkowski',\n",
       "           metric_params=None, n_jobs=-1, n_neighbors=5, p=2,\n",
       "           weights='uniform')"
      ]
     },
     "execution_count": 26,
     "metadata": {},
     "output_type": "execute_result"
    }
   ],
   "source": [
    "knn.fit(X, y)"
   ]
  },
  {
   "cell_type": "code",
   "execution_count": 27,
   "metadata": {
    "ExecuteTime": {
     "end_time": "2018-06-28T18:25:07.504203Z",
     "start_time": "2018-06-28T18:24:52.514290Z"
    },
    "collapsed": true
   },
   "outputs": [],
   "source": [
    "probs = knn.predict_proba(X)"
   ]
  },
  {
   "cell_type": "code",
   "execution_count": 32,
   "metadata": {
    "ExecuteTime": {
     "end_time": "2018-06-28T18:28:46.261777Z",
     "start_time": "2018-06-28T18:28:32.356293Z"
    }
   },
   "outputs": [
    {
     "data": {
      "text/plain": [
       "0.36772766128626744"
      ]
     },
     "execution_count": 32,
     "metadata": {},
     "output_type": "execute_result"
    }
   ],
   "source": [
    "knn.score(X, y)"
   ]
  }
 ],
 "metadata": {
  "kernelspec": {
   "display_name": "Python 3",
   "language": "python",
   "name": "python3"
  },
  "language_info": {
   "codemirror_mode": {
    "name": "ipython",
    "version": 3
   },
   "file_extension": ".py",
   "mimetype": "text/x-python",
   "name": "python",
   "nbconvert_exporter": "python",
   "pygments_lexer": "ipython3",
   "version": "3.6.2"
  },
  "toc": {
   "colors": {
    "hover_highlight": "#DAA520",
    "navigate_num": "#000000",
    "navigate_text": "#333333",
    "running_highlight": "#FF0000",
    "selected_highlight": "#FFD700",
    "sidebar_border": "#EEEEEE",
    "wrapper_background": "#FFFFFF"
   },
   "moveMenuLeft": true,
   "nav_menu": {
    "height": "164px",
    "width": "254px"
   },
   "navigate_menu": true,
   "number_sections": true,
   "sideBar": true,
   "threshold": 4,
   "toc_cell": false,
   "toc_section_display": "block",
   "toc_window_display": false,
   "widenNotebook": false
  }
 },
 "nbformat": 4,
 "nbformat_minor": 2
}
